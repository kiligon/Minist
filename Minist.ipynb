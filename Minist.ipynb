{
 "cells": [
  {
   "cell_type": "code",
   "execution_count": 1,
   "id": "concerned-operations",
   "metadata": {},
   "outputs": [],
   "source": [
    "import pandas as pd\n",
    "import numpy as np\n",
    "import tensorflow as tf #\n",
    "\n",
    "from sklearn.metrics import silhouette_score\n",
    "from sklearn.decomposition import TruncatedSVD\n",
    "\n",
    "from tkinter import *\n",
    "from PIL import ImageTk, Image, ImageDraw"
   ]
  },
  {
   "cell_type": "code",
   "execution_count": 2,
   "id": "provincial-milwaukee",
   "metadata": {},
   "outputs": [],
   "source": [
    "train = pd.read_csv('data/digit-recognizer/train.csv')\n",
    "test = pd.read_csv('data/digit-recognizer/test.csv')"
   ]
  },
  {
   "cell_type": "code",
   "execution_count": 3,
   "id": "piano-above",
   "metadata": {},
   "outputs": [],
   "source": [
    "train_y = train['label']\n",
    "train_X = train.drop('label',axis = 1)"
   ]
  },
  {
   "cell_type": "code",
   "execution_count": 4,
   "id": "sublime-bacon",
   "metadata": {},
   "outputs": [],
   "source": [
    "ttr = np.array(train_X, dtype=np.float32)/255\n",
    "ttr = ttr.reshape(-1,28,28,1)"
   ]
  },
  {
   "cell_type": "code",
   "execution_count": 5,
   "id": "infinite-million",
   "metadata": {},
   "outputs": [],
   "source": [
    "datagen = tf.keras.preprocessing.image.ImageDataGenerator(rotation_range=23,\n",
    "                  width_shift_range=0.20,\n",
    "                  shear_range=15,\n",
    "                  zoom_range=0.2,\n",
    "                  validation_split=0.25,\n",
    "                  horizontal_flip=False)\n"
   ]
  },
  {
   "cell_type": "code",
   "execution_count": 6,
   "id": "automatic-stable",
   "metadata": {},
   "outputs": [],
   "source": [
    "generator_train  = datagen.flow(ttr,train_y,batch_size=256,subset='training')\n",
    "generator_validation  = datagen.flow(ttr,train_y,batch_size=64,subset='validation')"
   ]
  },
  {
   "cell_type": "code",
   "execution_count": 7,
   "id": "compatible-modeling",
   "metadata": {},
   "outputs": [],
   "source": [
    "model = tf.keras.Sequential([\n",
    "    tf.keras.layers.Conv2D(32, (3,3), padding='same', activation=tf.nn.relu,\n",
    "                           input_shape=(28, 28, 1)),\n",
    "    tf.keras.layers.Dense(128, activation=tf.nn.relu),\n",
    "    tf.keras.layers.Dense(256, activation=tf.nn.relu),\n",
    "    tf.keras.layers.Flatten(),\n",
    "    tf.keras.layers.Dense(128, activation=tf.nn.relu),\n",
    "    tf.keras.layers.Dense(10,  activation=tf.nn.softmax)\n",
    "])\n",
    "\n",
    "model.compile(optimizer='adam',\n",
    "              loss='sparse_categorical_crossentropy',\n",
    "              metrics=['accuracy'])\n"
   ]
  },
  {
   "cell_type": "code",
   "execution_count": 8,
   "id": "fourth-designer",
   "metadata": {},
   "outputs": [],
   "source": [
    "from tensorflow.keras.callbacks import ModelCheckpoint\n",
    "checkpoint = ModelCheckpoint(filepath='digit-recognizer-model.hdf5',monitor='val_loss',save_best_only=True,save_weights_only=True,verbose=1)"
   ]
  },
  {
   "cell_type": "code",
   "execution_count": 20,
   "id": "trying-marking",
   "metadata": {},
   "outputs": [
    {
     "name": "stdout",
     "output_type": "stream",
     "text": [
      "Epoch 1/18\n",
      "124/124 [==============================] - 289s 2s/step - loss: 1.0442 - accuracy: 0.6647 - val_loss: 0.2682 - val_accuracy: 0.9181\n",
      "Epoch 2/18\n",
      "124/124 [==============================] - 308s 2s/step - loss: 0.2522 - accuracy: 0.9236 - val_loss: 0.2136 - val_accuracy: 0.9333\n",
      "Epoch 3/18\n",
      "124/124 [==============================] - 296s 2s/step - loss: 0.1909 - accuracy: 0.9424 - val_loss: 0.1516 - val_accuracy: 0.9525\n",
      "Epoch 4/18\n",
      "124/124 [==============================] - 307s 2s/step - loss: 0.1416 - accuracy: 0.9567 - val_loss: 0.1338 - val_accuracy: 0.9586\n",
      "Epoch 5/18\n",
      "124/124 [==============================] - 355s 3s/step - loss: 0.1320 - accuracy: 0.9599 - val_loss: 0.1094 - val_accuracy: 0.9649\n",
      "Epoch 6/18\n",
      "124/124 [==============================] - 223s 2s/step - loss: 0.1116 - accuracy: 0.9653 - val_loss: 0.1157 - val_accuracy: 0.9644\n",
      "Epoch 7/18\n",
      "124/124 [==============================] - 215s 2s/step - loss: 0.1087 - accuracy: 0.9659 - val_loss: 0.1055 - val_accuracy: 0.9662\n",
      "Epoch 8/18\n",
      "124/124 [==============================] - 240s 2s/step - loss: 0.1025 - accuracy: 0.9694 - val_loss: 0.0929 - val_accuracy: 0.9713\n",
      "Epoch 9/18\n",
      "124/124 [==============================] - 256s 2s/step - loss: 0.0960 - accuracy: 0.9698 - val_loss: 0.1048 - val_accuracy: 0.9687\n",
      "Epoch 10/18\n",
      "124/124 [==============================] - 240s 2s/step - loss: 0.0871 - accuracy: 0.9732 - val_loss: 0.1845 - val_accuracy: 0.9450\n",
      "Epoch 11/18\n",
      "124/124 [==============================] - 209s 2s/step - loss: 0.1202 - accuracy: 0.9628 - val_loss: 0.0900 - val_accuracy: 0.9709\n",
      "Epoch 12/18\n",
      "124/124 [==============================] - 212s 2s/step - loss: 0.0761 - accuracy: 0.9771 - val_loss: 0.0879 - val_accuracy: 0.9728\n",
      "Epoch 13/18\n",
      "124/124 [==============================] - 205s 2s/step - loss: 0.0786 - accuracy: 0.9758 - val_loss: 0.0857 - val_accuracy: 0.9728\n",
      "Epoch 14/18\n",
      "124/124 [==============================] - 204s 2s/step - loss: 0.0823 - accuracy: 0.9742 - val_loss: 0.0821 - val_accuracy: 0.9741\n",
      "Epoch 15/18\n",
      "124/124 [==============================] - 204s 2s/step - loss: 0.0683 - accuracy: 0.9803 - val_loss: 0.0846 - val_accuracy: 0.9738\n",
      "Epoch 16/18\n",
      "124/124 [==============================] - 204s 2s/step - loss: 0.0706 - accuracy: 0.9790 - val_loss: 0.0745 - val_accuracy: 0.9759\n",
      "Epoch 17/18\n",
      "124/124 [==============================] - 204s 2s/step - loss: 0.0654 - accuracy: 0.9806 - val_loss: 0.0728 - val_accuracy: 0.9775\n",
      "Epoch 18/18\n",
      "124/124 [==============================] - 205s 2s/step - loss: 0.0702 - accuracy: 0.9778 - val_loss: 0.0726 - val_accuracy: 0.9774\n"
     ]
    }
   ],
   "source": [
    "model_hist = model.fit(generator_train,validation_data=generator_validation,epochs=18) # uncomment if u want to train model by your self"
   ]
  },
  {
   "cell_type": "code",
   "execution_count": 44,
   "id": "dress-logistics",
   "metadata": {},
   "outputs": [],
   "source": [
    "model.save('path_to_my_model.h5')"
   ]
  },
  {
   "cell_type": "code",
   "execution_count": 9,
   "id": "thermal-hanging",
   "metadata": {},
   "outputs": [],
   "source": [
    "new_model = tf.keras.models.load_model('./model/model.h5')"
   ]
  },
  {
   "cell_type": "code",
   "execution_count": 10,
   "id": "thermal-shelf",
   "metadata": {},
   "outputs": [],
   "source": [
    "probability_model = tf.keras.Sequential([new_model, \n",
    "                                         tf.keras.layers.Softmax()])"
   ]
  },
  {
   "cell_type": "code",
   "execution_count": 12,
   "id": "violent-mauritius",
   "metadata": {},
   "outputs": [
    {
     "name": "stdout",
     "output_type": "stream",
     "text": [
      "[[0.08543097 0.08543037 0.08606317 0.08543909 0.08543037 0.08543192\n",
      "  0.08543099 0.08543116 0.2304806  0.08543134]]\n",
      "[[0.0854886  0.0854886  0.08554897 0.22954778 0.0854886  0.08548861\n",
      "  0.0854886  0.08647652 0.085494   0.08548972]]\n",
      "[[0.08564023 0.08564026 0.08617074 0.22711267 0.08564023 0.08564024\n",
      "  0.08564023 0.08658611 0.08627732 0.08565197]]\n",
      "[[0.08564023 0.08564026 0.08617074 0.22711267 0.08564023 0.08564024\n",
      "  0.08564023 0.08658611 0.08627732 0.08565197]]\n",
      "[[0.0853374  0.0853374  0.0853374  0.08533741 0.23195896 0.08533741\n",
      "  0.08533765 0.0853374  0.0853416  0.0853374 ]]\n",
      "[[0.08613107 0.08613107 0.08632524 0.21882933 0.08613107 0.08613212\n",
      "  0.08613107 0.08638547 0.09165575 0.08614784]]\n",
      "[[0.08540285 0.08540285 0.08555651 0.23092069 0.08540285 0.08540285\n",
      "  0.08540285 0.0856828  0.08542231 0.08540343]]\n",
      "[[0.08533686 0.08533686 0.08533687 0.23196742 0.08533686 0.08533766\n",
      "  0.08533686 0.08533686 0.08533686 0.08533686]]\n",
      "[[0.08533686 0.08533686 0.08533687 0.23196742 0.08533686 0.08533766\n",
      "  0.08533686 0.08533686 0.08533686 0.08533686]]\n",
      "[[0.08775675 0.08848988 0.08915778 0.10966875 0.08775124 0.08775124\n",
      "  0.08775124 0.18608116 0.08777509 0.08781679]]\n",
      "[[0.08584903 0.08584908 0.08602837 0.08938733 0.08584901 0.08584901\n",
      "  0.08584901 0.22363126 0.08585829 0.08584959]]\n",
      "[[0.08770412 0.08771531 0.0880805  0.11170065 0.08770406 0.08770406\n",
      "  0.08770406 0.18620357 0.08776577 0.08771787]]\n",
      "[[0.08642391 0.08635033 0.08635042 0.08635061 0.08635034 0.09423908\n",
      "  0.21487917 0.08635033 0.08635215 0.08635356]]\n",
      "[[0.0853378  0.0853378  0.0853378  0.08534434 0.0853378  0.2319526\n",
      "  0.08533823 0.0853378  0.08533797 0.08533785]]\n",
      "[[0.08542243 0.08542243 0.08601252 0.23060724 0.08542243 0.08542244\n",
      "  0.08542243 0.08542249 0.08542304 0.08542249]]\n",
      "[[0.08620979 0.08621614 0.08669928 0.09234376 0.0862089  0.0862089\n",
      "  0.0862089  0.21746859 0.08621006 0.08622564]]\n",
      "[[0.08714383 0.08715724 0.20113823 0.0912191  0.08714417 0.08715224\n",
      "  0.08714178 0.0926271  0.08889844 0.09037794]]\n",
      "[[0.0853369  0.08533782 0.23196685 0.08533691 0.0853369  0.0853369\n",
      "  0.0853369  0.085337   0.08533696 0.0853369 ]]\n",
      "[[0.08698834 0.08699331 0.09589648 0.08905598 0.08698495 0.08708088\n",
      "  0.0869849  0.20369    0.08743794 0.08888722]]\n",
      "[[0.08671083 0.08670905 0.08765132 0.09050769 0.08670943 0.09080575\n",
      "  0.08670882 0.087443   0.08773919 0.20901488]]\n"
     ]
    }
   ],
   "source": [
    "class Paint(Frame):\n",
    " \n",
    "    def __init__(self, parent):\n",
    "        Frame.__init__(self, parent)\n",
    " \n",
    "        self.parent = parent\n",
    "        self.color = \"black\"\n",
    "        self.brush_size = 8\n",
    "        self.setUI()\n",
    " \n",
    "    def draw(self, event):\n",
    "        self.canv.create_oval(event.x - self.brush_size, event.y - self.brush_size, event.x + self.brush_size, event.y + self.brush_size,\n",
    "                              fill=self.color, outline=self.color)\n",
    "    def Sterka(self):\n",
    "        self.canv.create_rectangle(0,0,281,281,fill=\"white\")\n",
    "      #  if (self.color == \"black\"):         \n",
    "      #      self.color = 'white'         \n",
    "      #      self.brush_size = 10\n",
    "      #  elif self.color == \"white\":\n",
    "      #      self.color = 'black'\n",
    "      #      self.brush_size = 10\n",
    "    \n",
    "    def Prediction(self):\n",
    "        self.canv.postscript(file=\"my_dram.ps\", colormode=\"color\")\n",
    "        image = Image.open('my_dram.ps')\n",
    "        image = Image.open('my_dram.ps')\n",
    "        npr = np.asarray(image.resize((28, 28)).convert('L')).reshape(1,28,28,1)\n",
    "        def to255(number):\n",
    "            return abs(number-255)\n",
    "        to255_vecotorize = np.vectorize(to255)\n",
    "        npr_255 = to255_vecotorize(npr) / 255.0\n",
    "        predictions = probability_model.predict(npr_255)\n",
    "        print(predictions)\n",
    "        return (predictions.argmax())\n",
    " \n",
    "    def setUI(self):\n",
    "        self.pack(fill=BOTH, expand=1)\n",
    "        self.canv = Canvas(self,width=280, height=280, bg=\"white\")\n",
    "        self.columnconfigure(0, weight=1)\n",
    "        self.rowconfigure(0, weight=1)\n",
    "        self.canv.grid(padx=5, pady=5, sticky=E + W + S + N)\n",
    "        self.canv.bind(\"<B1-Motion>\", self.draw)\n",
    "        global e1\n",
    "        e1 = Entry(self, width=10)\n",
    "        e1.grid(row=0, column=3)\n",
    "        Save_btn = Button(self, text=\"Prediction\", width=10 ,command=lambda: self.clear_insert())\n",
    "        Save_btn.grid(row=0, column=1)\n",
    "        Sterka_btn = Button(self, text=\"Sterka\", width=10 ,command=lambda: self.Sterka())\n",
    "        Sterka_btn.grid(row=0, column=2)\n",
    "\n",
    "    def clear_insert(self):\n",
    "        e1.delete(0, 10)\n",
    "        e1.insert(0 , self.Prediction())\n",
    " \n",
    "\n",
    "\n",
    "root = Tk()\n",
    "app = Paint(root)\n",
    "root.mainloop()"
   ]
  },
  {
   "cell_type": "code",
   "execution_count": null,
   "id": "light-panic",
   "metadata": {},
   "outputs": [],
   "source": []
  }
 ],
 "metadata": {
  "kernelspec": {
   "display_name": "Python 3 (ipykernel)",
   "language": "python",
   "name": "python3"
  },
  "language_info": {
   "codemirror_mode": {
    "name": "ipython",
    "version": 3
   },
   "file_extension": ".py",
   "mimetype": "text/x-python",
   "name": "python",
   "nbconvert_exporter": "python",
   "pygments_lexer": "ipython3",
   "version": "3.8.10"
  }
 },
 "nbformat": 4,
 "nbformat_minor": 5
}
