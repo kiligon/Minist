{
 "cells": [
  {
   "cell_type": "code",
   "execution_count": 35,
   "id": "concerned-operations",
   "metadata": {},
   "outputs": [],
   "source": [
    "import pandas as pd\n",
    "import numpy as np\n",
    "import tensorflow as tf #\n",
    "\n",
    "from sklearn.metrics import silhouette_score\n",
    "from sklearn.decomposition import TruncatedSVD"
   ]
  },
  {
   "cell_type": "code",
   "execution_count": 36,
   "id": "provincial-milwaukee",
   "metadata": {},
   "outputs": [],
   "source": [
    "train = pd.read_csv('data/digit-recognizer/train.csv')\n",
    "test = pd.read_csv('data/digit-recognizer/test.csv')"
   ]
  },
  {
   "cell_type": "code",
   "execution_count": 37,
   "id": "piano-above",
   "metadata": {},
   "outputs": [],
   "source": [
    "train_y = train['label']\n",
    "train_X = train.drop('label',axis = 1)"
   ]
  },
  {
   "cell_type": "code",
   "execution_count": 38,
   "id": "sublime-bacon",
   "metadata": {},
   "outputs": [],
   "source": [
    "ttr = np.array(ttr, dtype=np.float32)/255\n",
    "ttr = ttr.reshape(-1,28,28,1)"
   ]
  },
  {
   "cell_type": "code",
   "execution_count": 39,
   "id": "infinite-million",
   "metadata": {},
   "outputs": [],
   "source": [
    "datagen = tf.keras.preprocessing.image.ImageDataGenerator(rotation_range=23,\n",
    "                  width_shift_range=0.20,\n",
    "                  shear_range=15,\n",
    "                  zoom_range=0.2,\n",
    "                  validation_split=0.25,\n",
    "                  horizontal_flip=False)\n"
   ]
  },
  {
   "cell_type": "code",
   "execution_count": 40,
   "id": "automatic-stable",
   "metadata": {},
   "outputs": [],
   "source": [
    "generator_train  = datagen.flow(ttr,tty,batch_size=256,subset='training')\n",
    "generator_validation  = datagen.flow(ttr,tty,batch_size=64,subset='validation')"
   ]
  },
  {
   "cell_type": "code",
   "execution_count": 41,
   "id": "compatible-modeling",
   "metadata": {},
   "outputs": [
    {
     "ename": "SyntaxError",
     "evalue": "invalid syntax (<ipython-input-41-56380c4e0ffe>, line 5)",
     "output_type": "error",
     "traceback": [
      "\u001b[0;36m  File \u001b[0;32m\"<ipython-input-41-56380c4e0ffe>\"\u001b[0;36m, line \u001b[0;32m5\u001b[0m\n\u001b[0;31m    tf.keras.layers.Dense(256, activation=tf.nn.relu)\u001b[0m\n\u001b[0m    ^\u001b[0m\n\u001b[0;31mSyntaxError\u001b[0m\u001b[0;31m:\u001b[0m invalid syntax\n"
     ]
    }
   ],
   "source": [
    "model = tf.keras.Sequential([\n",
    "    tf.keras.layers.Conv2D(32, (3,3), padding='same', activation=tf.nn.relu,\n",
    "                           input_shape=(28, 28, 1)),\n",
    "    tf.keras.layers.Dense(128, activation=tf.nn.relu),\n",
    "    tf.keras.layers.Dense(256, activation=tf.nn.relu),\n",
    "    tf.keras.layers.Flatten(),\n",
    "    tf.keras.layers.Dense(128, activation=tf.nn.relu),\n",
    "    tf.keras.layers.Dense(10,  activation=tf.nn.softmax)\n",
    "])\n",
    "\n",
    "model.compile(optimizer='adam',\n",
    "              loss='sparse_categorical_crossentropy',\n",
    "              metrics=['accuracy'])\n"
   ]
  },
  {
   "cell_type": "code",
   "execution_count": null,
   "id": "fourth-designer",
   "metadata": {},
   "outputs": [],
   "source": [
    "from tensorflow.keras.callbacks import ModelCheckpoint\n",
    "checkpoint = ModelCheckpoint(filepath='digit-recognizer-model.hdf5',monitor='val_loss',save_best_only=True,save_weights_only=True,verbose=1)"
   ]
  },
  {
   "cell_type": "code",
   "execution_count": null,
   "id": "trying-marking",
   "metadata": {},
   "outputs": [],
   "source": [
    "model_hist = model.fit(generator_train,validation_data=generator_validation,epochs=40)"
   ]
  },
  {
   "cell_type": "code",
   "execution_count": null,
   "id": "thermal-shelf",
   "metadata": {},
   "outputs": [],
   "source": [
    "probability_model = tf.keras.Sequential([model, \n",
    "                                         tf.keras.layers.Softmax()])"
   ]
  },
  {
   "cell_type": "code",
   "execution_count": null,
   "id": "possible-world",
   "metadata": {},
   "outputs": [],
   "source": [
    "from tkinter import *\n",
    "from PIL import ImageTk, Image, ImageDraw\n",
    " \n",
    "class Paint(Frame):\n",
    " \n",
    "    def __init__(self, parent):\n",
    "        Frame.__init__(self, parent)\n",
    " \n",
    "        self.parent = parent\n",
    "        self.color = \"black\"\n",
    "        self.brush_size = 8\n",
    "        self.setUI()\n",
    " \n",
    "    def draw(self, event):\n",
    "        self.canv.create_oval(event.x - self.brush_size, event.y - self.brush_size, event.x + self.brush_size, event.y + self.brush_size,\n",
    "                              fill=self.color, outline=self.color)\n",
    "    def Sterka(self):\n",
    "        \n",
    "        \n",
    "        \n",
    "        self.canv.create_rectangle(0,0,281,281,fill=\"white\")\n",
    "        \n",
    "      #  if (self.color == \"black\"):\n",
    "      #      self.color = 'white'\n",
    "      #      self.brush_size = 10\n",
    "      #  elif self.color == \"white\":\n",
    "      #      self.color = 'black'\n",
    "      #      self.brush_size = 10\n",
    "    \n",
    "    def Prediction(self):\n",
    "        self.canv.postscript(file=\"my_dram.ps\", colormode=\"color\")\n",
    "        image = Image.open('my_dram.ps')\n",
    "        image = Image.open('my_dram.ps')\n",
    "        npr = np.asarray(image.resize((28, 28)).convert('L')).reshape(1,28,28,1)\n",
    "        def to255(number):\n",
    "            return abs(number-255)\n",
    "        to255_vecotorize = np.vectorize(to255)\n",
    "        npr_255 = to255_vecotorize(npr) / 255.0\n",
    "        predictions = probability_model.predict(npr_255)\n",
    "        print(predictions)\n",
    "        return (predictions.argmax())\n",
    " \n",
    "    def setUI(self):\n",
    "        self.pack(fill=BOTH, expand=1)\n",
    "        self.canv = Canvas(self,width=280, height=280, bg=\"white\")\n",
    "        self.columnconfigure(0, weight=1)\n",
    "        self.rowconfigure(0, weight=1)\n",
    "        self.canv.grid(padx=5, pady=5, sticky=E + W + S + N)\n",
    "        self.canv.bind(\"<B1-Motion>\", self.draw)\n",
    "        e1 = Entry(self, width=10)\n",
    "        e1.grid(row=0, column=3)\n",
    "        Save_btn = Button(self, text=\"Prediction\", width=10 ,command=lambda: e1.insert(0 , self.Prediction()))\n",
    "        Save_btn.grid(row=0, column=1)\n",
    "        Sterka_btn = Button(self, text=\"Sterka\", width=10 ,command=lambda: self.Sterka())\n",
    "        Sterka_btn.grid(row=0, column=2)\n",
    "\n",
    "\n",
    " \n",
    " \n",
    "root = Tk()\n",
    "app = Paint(root)\n",
    "root.mainloop()"
   ]
  },
  {
   "cell_type": "code",
   "execution_count": 1,
   "id": "norwegian-donna",
   "metadata": {},
   "outputs": [
    {
     "name": "stderr",
     "output_type": "stream",
     "text": [
      "No traceback available to show.\n"
     ]
    },
    {
     "name": "stdout",
     "output_type": "stream",
     "text": [
      "Dash is running on http://127.0.0.1:8050/\n",
      "\n",
      " * Serving Flask app '__main__' (lazy loading)\n",
      " * Environment: production\n",
      "\u001b[31m   WARNING: This is a development server. Do not use it in a production deployment.\u001b[0m\n",
      "\u001b[2m   Use a production WSGI server instead.\u001b[0m\n",
      " * Debug mode: on\n"
     ]
    },
    {
     "ename": "SystemExit",
     "evalue": "1",
     "output_type": "error",
     "traceback": [
      "An exception has occurred, use %tb to see the full traceback.\n",
      "\u001b[0;31mSystemExit\u001b[0m\u001b[0;31m:\u001b[0m 1\n"
     ]
    },
    {
     "name": "stderr",
     "output_type": "stream",
     "text": [
      "/home/ilya/mlhw/my_project_env/lib/python3.8/site-packages/IPython/core/interactiveshell.py:3426: UserWarning:\n",
      "\n",
      "To exit: use 'exit', 'quit', or Ctrl-D.\n",
      "\n"
     ]
    }
   ],
   "source": [
    "%tb\n",
    "import dash\n",
    "from dash import dcc\n",
    "from dash import html\n",
    "import plotly.express as px\n",
    "import pandas as pd\n",
    "\n",
    "app = dash.Dash(__name__)\n",
    "\n",
    "# assume you have a \"long-form\" data frame\n",
    "# see https://plotly.com/python/px-arguments/ for more options\n",
    "df = pd.DataFrame({\n",
    "    \"Fruit\": [\"Apples\", \"Oranges\", \"Bananas\", \"Apples\", \"Oranges\", \"Bananas\"],\n",
    "    \"Amount\": [4, 1, 2, 2, 4, 5],\n",
    "    \"City\": [\"SF\", \"SF\", \"SF\", \"Montreal\", \"Montreal\", \"Montreal\"]\n",
    "})\n",
    "\n",
    "fig = px.bar(df, x=\"Fruit\", y=\"Amount\", color=\"City\", barmode=\"group\")\n",
    "\n",
    "app.layout = html.Div(children=[\n",
    "    html.H1(children='Hello Dash'),\n",
    "\n",
    "    html.Div(children='''\n",
    "        Dash: A web application framework for your data.\n",
    "    '''),\n",
    "\n",
    "    dcc.Graph(\n",
    "        id='example-graph',\n",
    "        figure=fig\n",
    "    )\n",
    "])\n",
    "\n",
    "app.run_server(debug=True)"
   ]
  },
  {
   "cell_type": "code",
   "execution_count": 1,
   "id": "raised-revelation",
   "metadata": {},
   "outputs": [
    {
     "ename": "ModuleNotFoundError",
     "evalue": "No module named 'skimage'",
     "output_type": "error",
     "traceback": [
      "\u001b[0;31m---------------------------------------------------------------------------\u001b[0m",
      "\u001b[0;31mModuleNotFoundError\u001b[0m                       Traceback (most recent call last)",
      "\u001b[0;32m<ipython-input-1-4627dab9fa6d>\u001b[0m in \u001b[0;36m<module>\u001b[0;34m\u001b[0m\n\u001b[1;32m      4\u001b[0m \u001b[0;32mimport\u001b[0m \u001b[0mnumpy\u001b[0m \u001b[0;32mas\u001b[0m \u001b[0mnp\u001b[0m\u001b[0;34m\u001b[0m\u001b[0;34m\u001b[0m\u001b[0m\n\u001b[1;32m      5\u001b[0m \u001b[0;32mimport\u001b[0m \u001b[0mplotly\u001b[0m\u001b[0;34m.\u001b[0m\u001b[0mgraph_objects\u001b[0m \u001b[0;32mas\u001b[0m \u001b[0mgo\u001b[0m\u001b[0;34m\u001b[0m\u001b[0;34m\u001b[0m\u001b[0m\n\u001b[0;32m----> 6\u001b[0;31m \u001b[0;32mimport\u001b[0m \u001b[0mskimage\u001b[0m\u001b[0;34m.\u001b[0m\u001b[0mutil\u001b[0m\u001b[0;34m\u001b[0m\u001b[0;34m\u001b[0m\u001b[0m\n\u001b[0m\u001b[1;32m      7\u001b[0m \u001b[0;32mfrom\u001b[0m \u001b[0mplotly\u001b[0m\u001b[0;34m.\u001b[0m\u001b[0mutils\u001b[0m \u001b[0;32mimport\u001b[0m \u001b[0mImageUriValidator\u001b[0m\u001b[0;34m\u001b[0m\u001b[0;34m\u001b[0m\u001b[0m\n\u001b[1;32m      8\u001b[0m \u001b[0;34m\u001b[0m\u001b[0m\n",
      "\u001b[0;31mModuleNotFoundError\u001b[0m: No module named 'skimage'"
     ]
    }
   ],
   "source": [
    "import base64\n",
    "import PIL.Image\n",
    "import io\n",
    "import numpy as np\n",
    "import plotly.graph_objects as go\n",
    "import skimage.util\n",
    "from plotly.utils import ImageUriValidator\n",
    "\n",
    "\n",
    "def path_to_img_ndarray(path):\n",
    "    with open(path, \"rb\") as fp:\n",
    "        img = PIL.Image.open(fp)\n",
    "        img_array = np.array(img)\n",
    "        return skimage.util.img_as_float(img_array)\n",
    "\n",
    "\n",
    "def str_to_pil_img(s):\n",
    "    return PIL.Image.open(io.BytesIO(s))\n",
    "\n",
    "\n",
    "def str_to_img_ndarrary(s):\n",
    "    \"\"\"\n",
    "    Returns image in ndarray.\n",
    "    ndarray will have dimensions (width,height,number_of_color_channels)\n",
    "    This format is compatible with skimage\n",
    "    \"\"\"\n",
    "    img = str_to_pil_img(s)\n",
    "    img_array = np.array(img)\n",
    "    return skimage.util.img_as_float(img_array)\n",
    "\n",
    "\n",
    "def base64_to_img_array(data):\n",
    "    decoded_img = base64.b64decode(data)\n",
    "    return str_to_img_ndarrary(decoded_img)\n",
    "\n",
    "\n",
    "def str_to_img_trace(s):\n",
    "    img_array = str_to_img_ndarrary(s)\n",
    "    img_trace = go.Image(z=img_array)\n",
    "    return img_trace\n",
    "\n",
    "\n",
    "def base64_to_img_trace(data):\n",
    "    decoded_img = base64.b64decode(data)\n",
    "    return str_to_img_trace(decoded_img)\n",
    "\n",
    "\n",
    "def dummy_fig():\n",
    "    fig = go.Figure(go.Scatter(x=[], y=[]))\n",
    "    fig.update_layout(template=None)\n",
    "    fig.update_xaxes(showgrid=False, showticklabels=False, zeroline=False)\n",
    "    fig.update_yaxes(\n",
    "        showgrid=False, scaleanchor=\"x\", showticklabels=False, zeroline=False\n",
    "    )\n",
    "    return fig\n",
    "\n",
    "\n",
    "def _pilim_if_path(im):\n",
    "    if type(im) == type(str()):\n",
    "        return PIL.Image.open(im)\n",
    "    return im\n",
    "\n",
    "\n",
    "def add_layout_images_to_fig(fig, images, update_ranges=True):\n",
    "    \"\"\" images is a sequence of PIL Image objects \"\"\"\n",
    "    if len(images) <= 0:\n",
    "        return fig\n",
    "    for im in images:\n",
    "        # if image is a path to an image, load the image to get its size\n",
    "        width, height = _pilim_if_path(im).size\n",
    "        # Add images\n",
    "        fig.add_layout_image(\n",
    "            dict(\n",
    "                source=im,\n",
    "                xref=\"x\",\n",
    "                yref=\"y\",\n",
    "                x=0,\n",
    "                y=0,\n",
    "                sizex=width,\n",
    "                sizey=height,\n",
    "                sizing=\"contain\",\n",
    "                layer=\"below\",\n",
    "            )\n",
    "        )\n",
    "    if update_ranges:\n",
    "        width, height = [\n",
    "            max([_pilim_if_path(im).size[i] for im in images]) for i in range(2)\n",
    "        ]\n",
    "        # TODO showgrid,showticklabels,zeroline should be passable to this\n",
    "        # function\n",
    "        fig.update_xaxes(\n",
    "            showgrid=False, range=(0, width), showticklabels=False, zeroline=False\n",
    "        )\n",
    "        fig.update_yaxes(\n",
    "            showgrid=False,\n",
    "            scaleanchor=\"x\",\n",
    "            range=(height, 0),\n",
    "            showticklabels=False,\n",
    "            zeroline=False,\n",
    "        )\n",
    "    return fig\n",
    "\n",
    "\n",
    "def img_array_to_pil_image(ia):\n",
    "    ia = skimage.util.img_as_ubyte(ia)\n",
    "    img = PIL.Image.fromarray(ia)\n",
    "    return img\n",
    "\n",
    "\n",
    "def pil_image_to_layout_image_fig(img):\n",
    "    width, height = img.size\n",
    "\n",
    "    fig = dummy_fig()\n",
    "    fig.add_layout_image(\n",
    "        dict(\n",
    "            source=img,\n",
    "            xref=\"x\",\n",
    "            yref=\"y\",\n",
    "            x=0,\n",
    "            y=0,\n",
    "            sizex=width,\n",
    "            sizey=height,\n",
    "            sizing=\"contain\",\n",
    "            layer=\"below\",\n",
    "        )\n",
    "    )\n",
    "    fig.update_xaxes(showgrid=False, range=(0, width))\n",
    "    fig.update_yaxes(showgrid=False, range=(height, 0))\n",
    "    return fig\n",
    "\n",
    "\n",
    "def img_array_to_layout_image_fig(ia):\n",
    "    \"\"\" Returns a figure containing a layout image for faster rendering in the browser. \"\"\"\n",
    "    img = img_array_to_pil_image(ia)\n",
    "    return pil_image_to_layout_image_fig(img)\n",
    "\n",
    "\n",
    "def pil_image_to_uri(img):\n",
    "    return ImageUriValidator.pil_image_to_uri(img)\n",
    "\n",
    "\n",
    "def img_array_to_uri(img_array):\n",
    "    imgf = img_array_to_pil_image(img_array)\n",
    "    uri = pil_image_to_uri(imgf)\n",
    "    return uri\n",
    "\n",
    "\n",
    "def img_array_to_mime_bytes(img_array):\n",
    "    uri = img_array_to_uri(img_array)\n",
    "    mime, contents = uri.split(\";\")\n",
    "    typ, cont = contents.split(\",\")\n",
    "    byt = base64.b64decode(cont)\n",
    "    return (mime, byt)"
   ]
  },
  {
   "cell_type": "code",
   "execution_count": 2,
   "id": "composite-parameter",
   "metadata": {},
   "outputs": [
    {
     "name": "stdout",
     "output_type": "stream",
     "text": [
      "Collecting skimage\n",
      "  Downloading skimage-0.0.tar.gz (757 bytes)\n",
      "  Preparing metadata (setup.py) ... \u001b[?25lerror\n",
      "\u001b[31m  ERROR: Command errored out with exit status 1:\n",
      "   command: /home/ilya/mlhw/my_project_env/bin/python -c 'import io, os, sys, setuptools, tokenize; sys.argv[0] = '\"'\"'/tmp/pip-install-ai1v1x3f/skimage_100019cfe666441386a587355c8af089/setup.py'\"'\"'; __file__='\"'\"'/tmp/pip-install-ai1v1x3f/skimage_100019cfe666441386a587355c8af089/setup.py'\"'\"';f = getattr(tokenize, '\"'\"'open'\"'\"', open)(__file__) if os.path.exists(__file__) else io.StringIO('\"'\"'from setuptools import setup; setup()'\"'\"');code = f.read().replace('\"'\"'\\r\\n'\"'\"', '\"'\"'\\n'\"'\"');f.close();exec(compile(code, __file__, '\"'\"'exec'\"'\"'))' egg_info --egg-base /tmp/pip-pip-egg-info-631p6sbl\n",
      "       cwd: /tmp/pip-install-ai1v1x3f/skimage_100019cfe666441386a587355c8af089/\n",
      "  Complete output (3 lines):\n",
      "  \n",
      "  *** Please install the `scikit-image` package (instead of `skimage`) ***\n",
      "  \n",
      "  ----------------------------------------\u001b[0m\n",
      "\u001b[33mWARNING: Discarding https://files.pythonhosted.org/packages/3b/ee/edbfa69ba7b7d9726e634bfbeefd04b5a1764e9e74867ec916113eeaf4a1/skimage-0.0.tar.gz#sha256=6c96a11d9deea68489c9b80b38fad1dcdab582c36d4fa093b99b24a3b30c38ec (from https://pypi.org/simple/skimage/). Command errored out with exit status 1: python setup.py egg_info Check the logs for full command output.\u001b[0m\n",
      "\u001b[31mERROR: Could not find a version that satisfies the requirement skimage (from versions: 0.0)\u001b[0m\n",
      "\u001b[31mERROR: No matching distribution found for skimage\u001b[0m\n",
      "\u001b[?25h"
     ]
    }
   ],
   "source": [
    "!pip install skimage"
   ]
  },
  {
   "cell_type": "code",
   "execution_count": null,
   "id": "elder-grass",
   "metadata": {},
   "outputs": [],
   "source": []
  }
 ],
 "metadata": {
  "kernelspec": {
   "display_name": "Python 3",
   "language": "python",
   "name": "python3"
  },
  "language_info": {
   "codemirror_mode": {
    "name": "ipython",
    "version": 3
   },
   "file_extension": ".py",
   "mimetype": "text/x-python",
   "name": "python",
   "nbconvert_exporter": "python",
   "pygments_lexer": "ipython3",
   "version": "3.8.10"
  }
 },
 "nbformat": 4,
 "nbformat_minor": 5
}
